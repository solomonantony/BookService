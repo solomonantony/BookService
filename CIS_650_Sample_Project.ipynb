{
  "nbformat": 4,
  "nbformat_minor": 0,
  "metadata": {
    "colab": {
      "provenance": [],
      "mount_file_id": "1JJzAc8iJvwmwR4kQOxa4Y0j_IhFWPQYj",
      "authorship_tag": "ABX9TyO98X13gPRCLHnEZaMgnzj8",
      "include_colab_link": true
    },
    "kernelspec": {
      "name": "python3",
      "display_name": "Python 3"
    },
    "language_info": {
      "name": "python"
    }
  },
  "cells": [
    {
      "cell_type": "markdown",
      "metadata": {
        "id": "view-in-github",
        "colab_type": "text"
      },
      "source": [
        "<a href=\"https://colab.research.google.com/github/solomonantony/BookService/blob/master/CIS_650_Sample_Project.ipynb\" target=\"_parent\"><img src=\"https://colab.research.google.com/assets/colab-badge.svg\" alt=\"Open In Colab\"/></a>"
      ]
    },
    {
      "cell_type": "code",
      "source": [
        "# @title\n",
        "from google.colab import drive\n",
        "drive.mount('/content/drive')\n"
      ],
      "metadata": {
        "colab": {
          "base_uri": "https://localhost:8080/"
        },
        "id": "sujk8JH8XotS",
        "outputId": "e767942e-bc2e-4656-bf46-49f87d42b944",
        "cellView": "form"
      },
      "execution_count": null,
      "outputs": [
        {
          "output_type": "stream",
          "name": "stdout",
          "text": [
            "Drive already mounted at /content/drive; to attempt to forcibly remount, call drive.mount(\"/content/drive\", force_remount=True).\n"
          ]
        }
      ]
    },
    {
      "cell_type": "code",
      "source": [
        "# @title\n",
        "import os\n",
        "print(os.getcwd())"
      ],
      "metadata": {
        "colab": {
          "base_uri": "https://localhost:8080/"
        },
        "id": "xt4F5HTTZHp8",
        "outputId": "b29da432-34be-4eba-e19e-03f8dc21d719",
        "cellView": "form"
      },
      "execution_count": null,
      "outputs": [
        {
          "output_type": "stream",
          "name": "stdout",
          "text": [
            "/content\n"
          ]
        }
      ]
    },
    {
      "cell_type": "code",
      "source": [
        "# @title\n",
        "os.chdir('/content/drive/MyDrive/Colab Notebooks/CIS650Notebooks/Spring_2024_sample_project ')"
      ],
      "metadata": {
        "id": "SMNk816HZrBt",
        "cellView": "form"
      },
      "execution_count": null,
      "outputs": []
    },
    {
      "cell_type": "code",
      "execution_count": null,
      "metadata": {
        "id": "YmECqBbvSweN",
        "cellView": "form"
      },
      "outputs": [],
      "source": [
        "# @title\n",
        "\n",
        "os.listdir()\n"
      ]
    },
    {
      "cell_type": "code",
      "source": [
        "class Patient(object):\n",
        "  patients_list = []\n",
        "\n",
        "  def __init__(self, name, phone, address,\n",
        "                date_of_birth, history= []):\n",
        "    #when a patient object is created it is added to the patients_list\n",
        "    self.name = name\n",
        "    self.phone = phone\n",
        "    self.address = address\n",
        "    self.date_of_birth = date_of_birth\n",
        "    self.history = history\n",
        "    Patient.patients_list.append(self)\n",
        "\n",
        "  def update(self, name,phone, address,\n",
        "                date_of_birth, history):\n",
        "    self.name = name\n",
        "    self.phone = \"\"\n",
        "    self.address = \"\"\n",
        "    self.date_of_birth = \"\"\n",
        "    self.history = []\n",
        "\n",
        "  def __repr__(self):\n",
        "    return(self.name)\n"
      ],
      "metadata": {
        "id": "jVEVsbJxRzmx"
      },
      "execution_count": 99,
      "outputs": []
    },
    {
      "cell_type": "code",
      "source": [
        "patient1 = Patient(name='Joe', phone='270-555-1090',\n",
        "                  address='123 Main St Murray KY 42071',\n",
        "                  date_of_birth = 'Jan 1, 1996')\n",
        "patient1 = Patient(name='Kim', phone='270-555-1090',\n",
        "                  address='123 Main St Murray KY 42071',\n",
        "                  date_of_birth = 'Jan 1, 1996')\n"
      ],
      "metadata": {
        "id": "DSYQWofFaf1p"
      },
      "execution_count": 102,
      "outputs": []
    },
    {
      "cell_type": "code",
      "source": [
        "Patient.patients_list"
      ],
      "metadata": {
        "colab": {
          "base_uri": "https://localhost:8080/"
        },
        "id": "N96RaxxAq-_M",
        "outputId": "06b8a431-ccb8-40fd-a629-fbdf9d788366"
      },
      "execution_count": 103,
      "outputs": [
        {
          "output_type": "execute_result",
          "data": {
            "text/plain": [
              "[Joe, Joe, Kim]"
            ]
          },
          "metadata": {},
          "execution_count": 103
        }
      ]
    },
    {
      "cell_type": "code",
      "source": [
        "#these functions are mapped to the menu options\n",
        "import inspect\n",
        "my_name = lambda: inspect.stack()[0]\n",
        "def load_data():\n",
        "  print(my_name())\n",
        "def save_data():\n",
        "   print(my_name())\n",
        "def new_patient():\n",
        "   print(my_name())\n",
        "def update_patient():\n",
        "   print(my_name())\n",
        "def new_appointment():\n",
        "   print(my_name())\n",
        "def cancel_appointment():\n",
        "   print(my_name())\n",
        "def update_appointment():\n",
        "   print(my_name())\n",
        "def view_appointments():\n",
        "   print(my_name())\n",
        "def print_daily_schedule():\n",
        "   print(my_name())\n",
        "def print_weekly_schedule():\n",
        "   print(my_name())\n",
        "def exit():\n",
        "  print(my_name())"
      ],
      "metadata": {
        "id": "K28657HoFwwT"
      },
      "execution_count": 2,
      "outputs": []
    },
    {
      "cell_type": "code",
      "source": [],
      "metadata": {
        "id": "H1aPnBjDcvd5"
      },
      "execution_count": null,
      "outputs": []
    },
    {
      "cell_type": "code",
      "source": [],
      "metadata": {
        "id": "3BCTEuhRcyt0"
      },
      "execution_count": null,
      "outputs": []
    },
    {
      "cell_type": "code",
      "source": [
        "#Assuming a two levels of menu - main menu and sub-menu\n",
        "# the sub-menu options are mapped to their respective functions\n",
        "# The user interface for displaying the menu does not have any hard-coded options.\n",
        "# The options are added to a list of dictionaries.  Each dictionary entry has a\n",
        "# main menu and a sub-menu.  Each sub-menu entry has a diaplay item and\n",
        "# a function name\n",
        "\n",
        "menu_options = [{'main_menu':'File Input/output',\n",
        "                 'sub_menu': [{'display': 'Load data',\n",
        "                               'function':load_data},\n",
        "                              {'display':'Save data',\n",
        "                               'function':save_data}]},\n",
        "                {'main_menu': 'Manage patient info',\n",
        "                 'sub_menu': [{'display':'New patient data',\n",
        "                              'function': new_patient},\n",
        "                              {'display': 'Update patient data',\n",
        "                              'function': update_patient}]},\n",
        "                {'main_menu': 'Manage appointments',\n",
        "                 'sub_menu': [{'display': 'New appointment',\n",
        "                               'function':new_appointment},\n",
        "                              {'display':'Cancel appointment',\n",
        "                               'function': cancel_appointment},\n",
        "                              {'display':'Update appointment',\n",
        "                               'function': update_appointment},\n",
        "                              {'display': 'View appointment',\n",
        "                               'function': view_appointments},\n",
        "                              {'display':'Exit',\n",
        "                               'function': exit}]}\n",
        "                ]\n",
        "\n",
        "menu_header = 'Murray Dentists'"
      ],
      "metadata": {
        "id": "T89Ysz3KEaI_"
      },
      "execution_count": 6,
      "outputs": []
    },
    {
      "cell_type": "code",
      "source": [
        "# the actions associated with each menu option is\n",
        "# added to a local list of functions\n",
        "# the function is returned to the menu call\n",
        "def get_user_choice():\n",
        "  print(menu_header)\n",
        "  functions = []\n",
        "  i = 0\n",
        "  for main_menu_item in menu_options:\n",
        "    print(main_menu_item['main_menu'])\n",
        "    sub_menu = main_menu_item['sub_menu']\n",
        "    for sub_menu_option in sub_menu:\n",
        "      print(i, sub_menu_option['display'])\n",
        "      functions.append(sub_menu_option['function'])\n",
        "      i = i+1\n",
        "  user_choice = int(input('Your choice '))\n",
        "  return(functions[user_choice])"
      ],
      "metadata": {
        "id": "Pe7S4w0dFMDh"
      },
      "execution_count": 9,
      "outputs": []
    },
    {
      "cell_type": "code",
      "source": [
        "get_user_choice()\n",
        "\n",
        "\n"
      ],
      "metadata": {
        "colab": {
          "base_uri": "https://localhost:8080/",
          "height": 347
        },
        "id": "WGCyvgtEX6LE",
        "outputId": "d9712045-c6c9-495e-eb93-268396b48ca7"
      },
      "execution_count": 10,
      "outputs": [
        {
          "name": "stdout",
          "output_type": "stream",
          "text": [
            "Murray Dentists\n",
            "File Input/output\n",
            "0 Load data\n",
            "1 Save data\n",
            "Manage patient info\n",
            "2 New patient data\n",
            "3 Update patient data\n",
            "Manage appointments\n",
            "4 New appointment\n",
            "5 Cancel appointment\n",
            "6 Update appointment\n",
            "7 View appointment\n",
            "8 Exit\n",
            "Your choice 4\n"
          ]
        },
        {
          "output_type": "execute_result",
          "data": {
            "text/plain": [
              "<function __main__.new_appointment()>"
            ],
            "text/html": [
              "<div style=\"max-width:800px; border: 1px solid var(--colab-border-color);\"><style>\n",
              "      pre.function-repr-contents {\n",
              "        overflow-x: auto;\n",
              "        padding: 8px 12px;\n",
              "        max-height: 500px;\n",
              "      }\n",
              "\n",
              "      pre.function-repr-contents.function-repr-contents-collapsed {\n",
              "        cursor: pointer;\n",
              "        max-height: 100px;\n",
              "      }\n",
              "    </style>\n",
              "    <pre style=\"white-space: initial; background:\n",
              "         var(--colab-secondary-surface-color); padding: 8px 12px;\n",
              "         border-bottom: 1px solid var(--colab-border-color);\"><b>new_appointment</b><br/>def new_appointment()</pre><pre class=\"function-repr-contents function-repr-contents-collapsed\" style=\"\"><a class=\"filepath\" style=\"display:none\" href=\"#\">/content/&lt;ipython-input-2-c6acd5a655d8&gt;</a>&lt;no docstring&gt;</pre></div>"
            ]
          },
          "metadata": {},
          "execution_count": 10
        }
      ]
    },
    {
      "cell_type": "markdown",
      "source": [],
      "metadata": {
        "id": "AbG7aUqz7OnU"
      }
    },
    {
      "cell_type": "markdown",
      "source": [],
      "metadata": {
        "id": "QfuPPjsvT88w"
      }
    },
    {
      "cell_type": "code",
      "source": [],
      "metadata": {
        "id": "0veGgFbyPlT_"
      },
      "execution_count": null,
      "outputs": []
    },
    {
      "cell_type": "code",
      "source": [],
      "metadata": {
        "id": "jRomp_HHPmfw"
      },
      "execution_count": null,
      "outputs": []
    },
    {
      "cell_type": "code",
      "source": [
        "print(Patient.patients_count)"
      ],
      "metadata": {
        "colab": {
          "base_uri": "https://localhost:8080/"
        },
        "id": "-_wb2l-zP4pI",
        "outputId": "db430c3e-0d48-4c12-d197-4ce2cd7d04d8"
      },
      "execution_count": null,
      "outputs": [
        {
          "output_type": "stream",
          "name": "stdout",
          "text": [
            "1\n"
          ]
        }
      ]
    },
    {
      "cell_type": "code",
      "source": [
        "vars(patient1)"
      ],
      "metadata": {
        "colab": {
          "base_uri": "https://localhost:8080/"
        },
        "id": "6sq5DL3PQicI",
        "outputId": "e2790965-82bd-4ad8-8590-ba64e6fe2927"
      },
      "execution_count": null,
      "outputs": [
        {
          "output_type": "execute_result",
          "data": {
            "text/plain": [
              "{'name': 'Joe',\n",
              " 'phone': '270-555-1090',\n",
              " 'address': '123 Main St Murray KY 42071',\n",
              " 'date_of_birth': 'Jan 1, 1996'}"
            ]
          },
          "metadata": {},
          "execution_count": 64
        }
      ]
    },
    {
      "cell_type": "code",
      "source": [
        "import pandas as pd\n"
      ],
      "metadata": {
        "id": "XuHlBdRYReRw"
      },
      "execution_count": null,
      "outputs": []
    }
  ]
}